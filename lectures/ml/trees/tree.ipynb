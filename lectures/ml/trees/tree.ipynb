{
 "cells": [
  {
   "cell_type": "code",
   "execution_count": 2,
   "id": "4768de6d",
   "metadata": {},
   "outputs": [
    {
     "name": "stderr",
     "output_type": "stream",
     "text": [
      "21/11/12 11:14:05 WARN Utils: Your hostname, xtian-pc resolves to a loopback address: 127.0.1.1; using 192.168.1.39 instead (on interface enp5s0)\n",
      "21/11/12 11:14:05 WARN Utils: Set SPARK_LOCAL_IP if you need to bind to another address\n",
      "WARNING: An illegal reflective access operation has occurred\n",
      "WARNING: Illegal reflective access by org.apache.spark.unsafe.Platform (file:/home/xtian/local/spark-3.1.2-bin-hadoop3.2/jars/spark-unsafe_2.12-3.1.2.jar) to constructor java.nio.DirectByteBuffer(long,int)\n",
      "WARNING: Please consider reporting this to the maintainers of org.apache.spark.unsafe.Platform\n",
      "WARNING: Use --illegal-access=warn to enable warnings of further illegal reflective access operations\n",
      "WARNING: All illegal access operations will be denied in a future release\n",
      "21/11/12 11:14:05 WARN NativeCodeLoader: Unable to load native-hadoop library for your platform... using builtin-java classes where applicable\n",
      "Using Spark's default log4j profile: org/apache/spark/log4j-defaults.properties\n",
      "Setting default log level to \"WARN\".\n",
      "To adjust logging level use sc.setLogLevel(newLevel). For SparkR, use setLogLevel(newLevel).\n"
     ]
    }
   ],
   "source": [
    "from pyspark.sql import SparkSession\n",
    "spark = SparkSession.builder.appName(\"mytree\").getOrCreate()"
   ]
  },
  {
   "cell_type": "code",
   "execution_count": 3,
   "id": "206ee766",
   "metadata": {},
   "outputs": [],
   "source": [
    "from pyspark.ml import pipeline"
   ]
  },
  {
   "cell_type": "code",
   "execution_count": 24,
   "id": "094b1177",
   "metadata": {},
   "outputs": [],
   "source": [
    "from pyspark.ml.classification import (RandomForestClassifier,\n",
    "                            GBTClassifier,\n",
    "                        DecisionTreeClassifier)\n"
   ]
  },
  {
   "cell_type": "code",
   "execution_count": 6,
   "id": "25de07c7",
   "metadata": {},
   "outputs": [],
   "source": [
    "#from pyspark.ml.regression import DecisionTreeRegressor"
   ]
  },
  {
   "cell_type": "code",
   "execution_count": 7,
   "id": "734a7f9f",
   "metadata": {},
   "outputs": [
    {
     "name": "stderr",
     "output_type": "stream",
     "text": [
      "21/11/12 11:17:35 WARN LibSVMFileFormat: 'numFeatures' option not specified, determining the number of features by going though the input. If you know the number in advance, please specify it via 'numFeatures' option to avoid the extra scan.\n"
     ]
    }
   ],
   "source": [
    "data = spark.read.format(\"libsvm\").load(\"sample_libsvm_data.txt\")"
   ]
  },
  {
   "cell_type": "code",
   "execution_count": 8,
   "id": "0ebc953a",
   "metadata": {},
   "outputs": [
    {
     "name": "stdout",
     "output_type": "stream",
     "text": [
      "+-----+--------------------+\n",
      "|label|            features|\n",
      "+-----+--------------------+\n",
      "|  0.0|(692,[127,128,129...|\n",
      "|  1.0|(692,[158,159,160...|\n",
      "|  1.0|(692,[124,125,126...|\n",
      "|  1.0|(692,[152,153,154...|\n",
      "|  1.0|(692,[151,152,153...|\n",
      "|  0.0|(692,[129,130,131...|\n",
      "|  1.0|(692,[158,159,160...|\n",
      "|  1.0|(692,[99,100,101,...|\n",
      "|  0.0|(692,[154,155,156...|\n",
      "|  0.0|(692,[127,128,129...|\n",
      "|  1.0|(692,[154,155,156...|\n",
      "|  0.0|(692,[153,154,155...|\n",
      "|  0.0|(692,[151,152,153...|\n",
      "|  1.0|(692,[129,130,131...|\n",
      "|  0.0|(692,[154,155,156...|\n",
      "|  1.0|(692,[150,151,152...|\n",
      "|  0.0|(692,[124,125,126...|\n",
      "|  0.0|(692,[152,153,154...|\n",
      "|  1.0|(692,[97,98,99,12...|\n",
      "|  1.0|(692,[124,125,126...|\n",
      "+-----+--------------------+\n",
      "only showing top 20 rows\n",
      "\n"
     ]
    }
   ],
   "source": [
    "data.show()"
   ]
  },
  {
   "cell_type": "code",
   "execution_count": 28,
   "id": "4fe6df72",
   "metadata": {},
   "outputs": [],
   "source": [
    "train_data, test_data = data.randomSplit([0.7, .03])"
   ]
  },
  {
   "cell_type": "code",
   "execution_count": 20,
   "id": "6062ac11",
   "metadata": {},
   "outputs": [],
   "source": [
    "dtc = DecisionTreeClassifier(featuresCol='features', \n",
    "                             labelCol='label')"
   ]
  },
  {
   "cell_type": "code",
   "execution_count": 21,
   "id": "fc7661b2",
   "metadata": {},
   "outputs": [],
   "source": [
    "rfc = RandomForestClassifier(featuresCol='features', \n",
    "                             labelCol='label',\n",
    "                            numTrees=100)"
   ]
  },
  {
   "cell_type": "code",
   "execution_count": 26,
   "id": "2ecef024",
   "metadata": {},
   "outputs": [],
   "source": [
    "gbtc = GBTClassifier(featuresCol='features', \n",
    "                             labelCol='label')"
   ]
  },
  {
   "cell_type": "code",
   "execution_count": 40,
   "id": "1beaa272",
   "metadata": {},
   "outputs": [],
   "source": [
    "dtc_model = dtc.fit(train_data)\n",
    "rfc_model = rfc.fit(train_data)\n",
    "gbtc_model = gbtc.fit(train_data)"
   ]
  },
  {
   "cell_type": "code",
   "execution_count": 41,
   "id": "bdb9d3eb",
   "metadata": {},
   "outputs": [],
   "source": [
    "dtc_pred = dtc_model.transform(test_data)\n",
    "rfc_pred = rfc_model.transform(test_data)\n",
    "gbtc_pred = gbtc_model.transform(test_data)"
   ]
  },
  {
   "cell_type": "code",
   "execution_count": 42,
   "id": "60a36460",
   "metadata": {},
   "outputs": [
    {
     "name": "stdout",
     "output_type": "stream",
     "text": [
      "+-----+--------------------+-------------+-----------+----------+\n",
      "|label|            features|rawPrediction|probability|prediction|\n",
      "+-----+--------------------+-------------+-----------+----------+\n",
      "|  0.0|(692,[154,155,156...|   [42.0,0.0]|  [1.0,0.0]|       0.0|\n",
      "|  1.0|(692,[123,124,125...|   [0.0,54.0]|  [0.0,1.0]|       1.0|\n",
      "|  1.0|(692,[129,130,131...|   [42.0,0.0]|  [1.0,0.0]|       0.0|\n",
      "+-----+--------------------+-------------+-----------+----------+\n",
      "\n"
     ]
    }
   ],
   "source": [
    "dtc_pred.show()"
   ]
  },
  {
   "cell_type": "code",
   "execution_count": 43,
   "id": "046b22c1",
   "metadata": {},
   "outputs": [
    {
     "name": "stdout",
     "output_type": "stream",
     "text": [
      "+-----+--------------------+-------------+-----------+----------+\n",
      "|label|            features|rawPrediction|probability|prediction|\n",
      "+-----+--------------------+-------------+-----------+----------+\n",
      "|  0.0|(692,[154,155,156...|   [96.0,4.0]|[0.96,0.04]|       0.0|\n",
      "|  1.0|(692,[123,124,125...|   [8.0,92.0]|[0.08,0.92]|       1.0|\n",
      "|  1.0|(692,[129,130,131...|  [48.0,52.0]|[0.48,0.52]|       1.0|\n",
      "+-----+--------------------+-------------+-----------+----------+\n",
      "\n"
     ]
    }
   ],
   "source": [
    "rfc_pred.show()"
   ]
  },
  {
   "cell_type": "code",
   "execution_count": 44,
   "id": "a8e91c41",
   "metadata": {},
   "outputs": [
    {
     "name": "stdout",
     "output_type": "stream",
     "text": [
      "+-----+--------------------+--------------------+--------------------+----------+\n",
      "|label|            features|       rawPrediction|         probability|prediction|\n",
      "+-----+--------------------+--------------------+--------------------+----------+\n",
      "|  0.0|(692,[154,155,156...|[1.54350200272498...|[0.95635347857270...|       0.0|\n",
      "|  1.0|(692,[123,124,125...|[-1.5435020027249...|[0.04364652142729...|       1.0|\n",
      "|  1.0|(692,[129,130,131...|[1.22256351403293...|[0.92020436871057...|       0.0|\n",
      "+-----+--------------------+--------------------+--------------------+----------+\n",
      "\n"
     ]
    }
   ],
   "source": [
    "gbtc_pred.show()"
   ]
  },
  {
   "cell_type": "code",
   "execution_count": 45,
   "id": "f3271e81",
   "metadata": {},
   "outputs": [],
   "source": [
    "from pyspark.ml.evaluation import MulticlassClassificationEvaluator"
   ]
  },
  {
   "cell_type": "code",
   "execution_count": 46,
   "id": "b2b0181c",
   "metadata": {},
   "outputs": [],
   "source": [
    "acc_eval = MulticlassClassificationEvaluator(metricName=\"accuracy\")"
   ]
  },
  {
   "cell_type": "code",
   "execution_count": 50,
   "id": "0bfed3c4",
   "metadata": {},
   "outputs": [
    {
     "name": "stdout",
     "output_type": "stream",
     "text": [
      "DTC ACC\n"
     ]
    },
    {
     "data": {
      "text/plain": [
       "0.6666666666666666"
      ]
     },
     "execution_count": 50,
     "metadata": {},
     "output_type": "execute_result"
    }
   ],
   "source": [
    "print(\"DTC ACC\")\n",
    "acc_eval.evaluate(dtc_pred)"
   ]
  },
  {
   "cell_type": "code",
   "execution_count": 51,
   "id": "5bbc4b20",
   "metadata": {},
   "outputs": [
    {
     "name": "stdout",
     "output_type": "stream",
     "text": [
      "RFC ACC\n"
     ]
    },
    {
     "data": {
      "text/plain": [
       "1.0"
      ]
     },
     "execution_count": 51,
     "metadata": {},
     "output_type": "execute_result"
    }
   ],
   "source": [
    "print(\"RFC ACC\")\n",
    "acc_eval.evaluate(rfc_pred)"
   ]
  },
  {
   "cell_type": "code",
   "execution_count": 52,
   "id": "a915180d",
   "metadata": {},
   "outputs": [
    {
     "name": "stdout",
     "output_type": "stream",
     "text": [
      "GBTC ACC\n"
     ]
    },
    {
     "data": {
      "text/plain": [
       "0.6666666666666666"
      ]
     },
     "execution_count": 52,
     "metadata": {},
     "output_type": "execute_result"
    }
   ],
   "source": [
    "print(\"GBTC ACC\")\n",
    "acc_eval.evaluate(gbtc_pred)"
   ]
  },
  {
   "cell_type": "code",
   "execution_count": 53,
   "id": "d5762535",
   "metadata": {},
   "outputs": [
    {
     "data": {
      "text/plain": [
       "SparseVector(692, {119: 0.0012, 147: 0.0007, 153: 0.0004, 208: 0.001, 209: 0.0004, 212: 0.001, 214: 0.0009, 216: 0.0122, 217: 0.0019, 234: 0.0004, 242: 0.0014, 243: 0.0005, 244: 0.0166, 245: 0.0005, 258: 0.0004, 259: 0.0003, 262: 0.0002, 263: 0.0153, 266: 0.0005, 267: 0.0029, 268: 0.0024, 272: 0.0079, 273: 0.0098, 274: 0.0004, 287: 0.004, 289: 0.0003, 290: 0.0029, 291: 0.0091, 293: 0.0002, 295: 0.0079, 299: 0.0015, 301: 0.0003, 302: 0.0023, 317: 0.0072, 318: 0.0004, 320: 0.0004, 322: 0.0009, 323: 0.0093, 327: 0.0069, 328: 0.0019, 330: 0.0058, 341: 0.0005, 342: 0.0019, 344: 0.0004, 345: 0.0153, 346: 0.0007, 347: 0.0011, 349: 0.0004, 351: 0.0411, 352: 0.0025, 356: 0.0104, 357: 0.0076, 358: 0.0055, 369: 0.0004, 373: 0.0063, 374: 0.0015, 377: 0.0164, 378: 0.0087, 379: 0.0092, 380: 0.0009, 384: 0.0061, 385: 0.0291, 387: 0.0006, 396: 0.0004, 399: 0.0072, 400: 0.0137, 402: 0.0009, 405: 0.0289, 406: 0.0596, 407: 0.0182, 409: 0.0023, 411: 0.0004, 412: 0.006, 415: 0.0005, 426: 0.0119, 428: 0.0004, 429: 0.0016, 433: 0.0478, 434: 0.0309, 435: 0.0073, 438: 0.0007, 439: 0.0004, 440: 0.0087, 441: 0.006, 442: 0.008, 443: 0.0013, 455: 0.0184, 456: 0.0065, 457: 0.0069, 461: 0.0466, 462: 0.029, 463: 0.0091, 464: 0.002, 481: 0.0008, 483: 0.0217, 486: 0.0024, 489: 0.0387, 490: 0.0545, 496: 0.0086, 510: 0.0017, 511: 0.0301, 512: 0.0266, 516: 0.0004, 517: 0.0178, 524: 0.0072, 538: 0.0022, 540: 0.0466, 543: 0.0004, 544: 0.0018, 547: 0.0002, 548: 0.0001, 552: 0.0063, 555: 0.0003, 568: 0.0205, 570: 0.0007, 578: 0.0073, 594: 0.0008, 595: 0.0004, 596: 0.0016, 602: 0.0004, 623: 0.0005, 624: 0.0004, 625: 0.0003, 627: 0.0004, 628: 0.0009, 630: 0.0001, 631: 0.0004, 632: 0.007, 655: 0.0005, 682: 0.0004})"
      ]
     },
     "execution_count": 53,
     "metadata": {},
     "output_type": "execute_result"
    }
   ],
   "source": [
    "rfc_model.featureImportances"
   ]
  },
  {
   "cell_type": "code",
   "execution_count": null,
   "id": "10776f1c",
   "metadata": {},
   "outputs": [],
   "source": []
  }
 ],
 "metadata": {
  "kernelspec": {
   "display_name": "Python 3 (ipykernel)",
   "language": "python",
   "name": "python3"
  },
  "language_info": {
   "codemirror_mode": {
    "name": "ipython",
    "version": 3
   },
   "file_extension": ".py",
   "mimetype": "text/x-python",
   "name": "python",
   "nbconvert_exporter": "python",
   "pygments_lexer": "ipython3",
   "version": "3.8.10"
  }
 },
 "nbformat": 4,
 "nbformat_minor": 5
}
